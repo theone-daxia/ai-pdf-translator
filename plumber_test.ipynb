{
  "nbformat": 4,
  "nbformat_minor": 0,
  "metadata": {
    "colab": {
      "provenance": [],
      "authorship_tag": "ABX9TyPafleu5QGz3V1r9oOd48yt",
      "include_colab_link": true
    },
    "kernelspec": {
      "name": "python3",
      "display_name": "Python 3"
    },
    "language_info": {
      "name": "python"
    }
  },
  "cells": [
    {
      "cell_type": "markdown",
      "metadata": {
        "id": "view-in-github",
        "colab_type": "text"
      },
      "source": [
        "<a href=\"https://colab.research.google.com/github/theone-daxia/ai-pdf-translator/blob/main/plumber_test.ipynb\" target=\"_parent\"><img src=\"https://colab.research.google.com/assets/colab-badge.svg\" alt=\"Open In Colab\"/></a>"
      ]
    },
    {
      "cell_type": "code",
      "execution_count": null,
      "metadata": {
        "colab": {
          "base_uri": "https://localhost:8080/"
        },
        "id": "ix0bnpswD1C2",
        "outputId": "f2af8df4-f2c3-4300-a820-a08a68dfb113"
      },
      "outputs": [
        {
          "output_type": "stream",
          "name": "stdout",
          "text": [
            "Cloning into 'openai-quickstart'...\n",
            "remote: Enumerating objects: 683, done.\u001b[K\n",
            "remote: Counting objects: 100% (439/439), done.\u001b[K\n",
            "remote: Compressing objects: 100% (221/221), done.\u001b[K\n",
            "remote: Total 683 (delta 290), reused 266 (delta 215), pack-reused 244\u001b[K\n",
            "Receiving objects: 100% (683/683), 56.86 MiB | 14.95 MiB/s, done.\n",
            "Resolving deltas: 100% (343/343), done.\n"
          ]
        }
      ],
      "source": [
        "!git clone https://github.com/DjangoPeng/openai-quickstart.git"
      ]
    },
    {
      "cell_type": "code",
      "source": [
        "!cp openai-quickstart/openai-translator/tests/The_Old_Man_of_the_Sea.pdf .\n",
        "!cp openai-quickstart/openai-translator/tests/test.pdf ."
      ],
      "metadata": {
        "id": "ZpSm5346LU5w"
      },
      "execution_count": null,
      "outputs": []
    },
    {
      "cell_type": "code",
      "source": [
        "!pip install pdfplumber"
      ],
      "metadata": {
        "id": "Luo18-PoM_fm"
      },
      "execution_count": null,
      "outputs": []
    },
    {
      "cell_type": "code",
      "source": [
        "import pdfplumber\n",
        "\n",
        "pdf = pdfplumber.open(\"The_Old_Man_of_the_Sea.pdf\")"
      ],
      "metadata": {
        "id": "uYOCMLKlL_PO"
      },
      "execution_count": 6,
      "outputs": []
    },
    {
      "cell_type": "code",
      "source": [
        "pdf.metadata"
      ],
      "metadata": {
        "id": "-CUWo7jQMZYB",
        "colab": {
          "base_uri": "https://localhost:8080/"
        },
        "outputId": "b858e5dd-08cd-4500-e5a4-49e5e18105f5"
      },
      "execution_count": 7,
      "outputs": [
        {
          "output_type": "execute_result",
          "data": {
            "text/plain": [
              "{'CreationDate': \"D:20060717205532+08'00'\",\n",
              " 'Subject': 'For Personal Learning!',\n",
              " 'Author': 'Asiaing.com',\n",
              " 'Creator': 'PScript5.dll Version 5.2',\n",
              " 'Producer': 'Acrobat Distiller 7.0.5 (Windows)',\n",
              " 'ModDate': \"D:20060717210222+08'00'\",\n",
              " 'Title': 'Hemingway, Ernest - The Old Man and the Sea'}"
            ]
          },
          "metadata": {},
          "execution_count": 7
        }
      ]
    },
    {
      "cell_type": "code",
      "source": [
        "pdf.pages"
      ],
      "metadata": {
        "id": "MQKfncUWMb_M"
      },
      "execution_count": null,
      "outputs": []
    },
    {
      "cell_type": "code",
      "source": [
        "pdf = pdfplumber.open(\"test.pdf\")"
      ],
      "metadata": {
        "id": "Dqstl1l4PICb"
      },
      "execution_count": 9,
      "outputs": []
    },
    {
      "cell_type": "code",
      "source": [
        "pages = pdf.pages\n",
        "print(pages)"
      ],
      "metadata": {
        "colab": {
          "base_uri": "https://localhost:8080/"
        },
        "id": "kqIlrq4fPH_p",
        "outputId": "2d2a160f-1e2c-41cf-9f52-5af15e83ed39"
      },
      "execution_count": 10,
      "outputs": [
        {
          "output_type": "stream",
          "name": "stdout",
          "text": [
            "[<Page:1>, <Page:2>]\n"
          ]
        }
      ]
    },
    {
      "cell_type": "code",
      "source": [
        "pages[0].page_number"
      ],
      "metadata": {
        "colab": {
          "base_uri": "https://localhost:8080/"
        },
        "id": "nM8fPQ-dPH9h",
        "outputId": "c5765e17-8b8f-418d-a018-08e8fc2d02f0"
      },
      "execution_count": 11,
      "outputs": [
        {
          "output_type": "execute_result",
          "data": {
            "text/plain": [
              "1"
            ]
          },
          "metadata": {},
          "execution_count": 11
        }
      ]
    },
    {
      "cell_type": "code",
      "source": [
        "print(pages[0].width, pages[0].height)"
      ],
      "metadata": {
        "colab": {
          "base_uri": "https://localhost:8080/"
        },
        "id": "5qtgKALrPH69",
        "outputId": "9af082fd-a6e5-4bf6-96d8-23ed85cae4f0"
      },
      "execution_count": 12,
      "outputs": [
        {
          "output_type": "stream",
          "name": "stdout",
          "text": [
            "595 842\n"
          ]
        }
      ]
    },
    {
      "cell_type": "code",
      "source": [
        "# 可视化第一页\n",
        "pages[0].to_image()"
      ],
      "metadata": {
        "colab": {
          "base_uri": "https://localhost:8080/",
          "height": 859
        },
        "id": "-QClAAxLPH4j",
        "outputId": "7f0c6336-643b-43cd-e712-385ca7bdec7a"
      },
      "execution_count": 13,
      "outputs": [
        {
          "output_type": "execute_result",
          "data": {
            "text/plain": [
              "<pdfplumber.display.PageImage at 0x7c4dfccdbf40>"
            ],
            "image/png": "[encoded data removed]"
          },
          "metadata": {},
          "execution_count": 13
        }
      ]
    },
    {
      "cell_type": "code",
      "source": [
        "p1_text = pages[0].extract_text()"
      ],
      "metadata": {
        "id": "BsDZzOduPH1r"
      },
      "execution_count": 14,
      "outputs": []
    },
    {
      "cell_type": "code",
      "source": [
        "print(p1_text)"
      ],
      "metadata": {
        "colab": {
          "base_uri": "https://localhost:8080/"
        },
        "id": "t_mXQSzqtpbj",
        "outputId": "e2f0d36a-04dd-4fce-a8a7-23e2638243e2"
      },
      "execution_count": 15,
      "outputs": [
        {
          "output_type": "stream",
          "name": "stdout",
          "text": [
            "Test Data\n",
            "This dataset contains two test samples provided by ChatGPT, an AI language model by OpenAI.\n",
            "These samples include a markdown table and an English text passage, which can be used to test an\n",
            "English-to-Chinese translation software supporting both text and table formats.\n",
            "Text testing\n",
            "The quick brown fox jumps over the lazy dog. This pangram contains every letter of the English\n",
            "alphabet at least once. Pangrams are often used to test fonts, keyboards, and other text-related\n",
            "tools. In addition to English, there are pangrams in many other languages. Some pangrams are more\n",
            "difficult to construct due to the unique characteristics of the language.\n",
            "Table Testing\n",
            "Fruit Color Price (USD)\n",
            "Apple Red 1.20\n",
            "Banana Yellow 0.50\n",
            "Orange Orange 0.80\n",
            "Strawberry Red 2.50\n",
            "Blueberry Blue 3.00\n",
            "Kiwi Green 1.00\n",
            "Mango Orange 1.50\n",
            "Grape Purple 2.00\n"
          ]
        }
      ]
    },
    {
      "cell_type": "code",
      "source": [
        "p1_text = pages[0].extract_text(layout=True)"
      ],
      "metadata": {
        "id": "-vfcfXcBPHyS"
      },
      "execution_count": 16,
      "outputs": []
    },
    {
      "cell_type": "code",
      "source": [
        "print(p1_text)"
      ],
      "metadata": {
        "colab": {
          "base_uri": "https://localhost:8080/"
        },
        "id": "shDKeezVPHoJ",
        "outputId": "1f9f1089-4785-43d1-e32e-3603e6f6b96d"
      },
      "execution_count": 17,
      "outputs": [
        {
          "output_type": "stream",
          "name": "stdout",
          "text": [
            "                                                                                  \n",
            "                                                                                  \n",
            "                                                                                  \n",
            "                                                                                  \n",
            "                                                                                  \n",
            "                                                                                  \n",
            "                                                                                  \n",
            "        Test    Data                                                              \n",
            "                                                                                  \n",
            "                                                                                  \n",
            "                                                                                  \n",
            "        This dataset contains two test samples provided by ChatGPT, an AI language model by OpenAI.\n",
            "        These samples include a markdown table and an English text passage, which can be used to test an\n",
            "        English-to-Chinese translation software supporting both text and table formats.\n",
            "                                                                                  \n",
            "                                                                                  \n",
            "        Text  testing                                                             \n",
            "                                                                                  \n",
            "                                                                                  \n",
            "        The quick brown fox jumps over the lazy dog. This pangram contains every letter of the English\n",
            "        alphabet at least once. Pangrams are often used to test fonts, keyboards, and other text-related\n",
            "        tools. In addition to English, there are pangrams in many other languages. Some pangrams are more\n",
            "                                                                                  \n",
            "        difficult to construct due to the unique characteristics of the language. \n",
            "                                                                                  \n",
            "        Table  Testing                                                            \n",
            "                                                                                  \n",
            "                                                                                  \n",
            "          Fruit                  Color            Price (USD)                     \n",
            "                                                                                  \n",
            "          Apple                  Red              1.20                            \n",
            "                                                                                  \n",
            "          Banana                 Yellow           0.50                            \n",
            "                                                                                  \n",
            "          Orange                 Orange           0.80                            \n",
            "                                                                                  \n",
            "          Strawberry             Red              2.50                            \n",
            "                                                                                  \n",
            "          Blueberry              Blue             3.00                            \n",
            "                                                                                  \n",
            "          Kiwi                   Green            1.00                            \n",
            "                                                                                  \n",
            "          Mango                  Orange           1.50                            \n",
            "                                                                                  \n",
            "          Grape                  Purple           2.00                            \n",
            "                                                                                  \n",
            "                                                                                  \n",
            "                                                                                  \n",
            "                                                                                  \n",
            "                                                                                  \n",
            "                                                                                  \n",
            "                                                                                  \n",
            "                                                                                  \n",
            "                                                                                  \n",
            "                                                                                  \n",
            "                                                                                  \n",
            "                                                                                  \n",
            "                                                                                  \n",
            "                                                                                  \n",
            "                                                                                  \n",
            "                                                                                  \n",
            "                                                                                  \n",
            "                                                                                  \n",
            "                                                                                  \n"
          ]
        }
      ]
    },
    {
      "cell_type": "code",
      "source": [
        "p1_table = pages[0].extract_table()"
      ],
      "metadata": {
        "id": "g9MVASebugRb"
      },
      "execution_count": 18,
      "outputs": []
    },
    {
      "cell_type": "code",
      "source": [
        "print(p1_table)"
      ],
      "metadata": {
        "colab": {
          "base_uri": "https://localhost:8080/"
        },
        "id": "Kj25uJuNuhL5",
        "outputId": "751fc01c-3081-4960-c344-482ac53a9955"
      },
      "execution_count": 20,
      "outputs": [
        {
          "output_type": "stream",
          "name": "stdout",
          "text": [
            "[['Fruit', 'Color', 'Price (USD)'], ['Apple', 'Red', '1.20'], ['Banana', 'Yellow', '0.50'], ['Orange', 'Orange', '0.80'], ['Strawberry', 'Red', '2.50'], ['Blueberry', 'Blue', '3.00'], ['Kiwi', 'Green', '1.00'], ['Mango', 'Orange', '1.50'], ['Grape', 'Purple', '2.00']]\n"
          ]
        }
      ]
    },
    {
      "cell_type": "code",
      "source": [
        "tables = pages[0].extract_tables()"
      ],
      "metadata": {
        "id": "iEpBtmE1uhJz"
      },
      "execution_count": 21,
      "outputs": []
    },
    {
      "cell_type": "code",
      "source": [
        "tables"
      ],
      "metadata": {
        "colab": {
          "base_uri": "https://localhost:8080/"
        },
        "id": "ywcD2d2BuhIU",
        "outputId": "1405c017-cdd3-43d7-df04-e12779a53d56"
      },
      "execution_count": 22,
      "outputs": [
        {
          "output_type": "execute_result",
          "data": {
            "text/plain": [
              "[[['Fruit', 'Color', 'Price (USD)'],\n",
              "  ['Apple', 'Red', '1.20'],\n",
              "  ['Banana', 'Yellow', '0.50'],\n",
              "  ['Orange', 'Orange', '0.80'],\n",
              "  ['Strawberry', 'Red', '2.50'],\n",
              "  ['Blueberry', 'Blue', '3.00'],\n",
              "  ['Kiwi', 'Green', '1.00'],\n",
              "  ['Mango', 'Orange', '1.50'],\n",
              "  ['Grape', 'Purple', '2.00']]]"
            ]
          },
          "metadata": {},
          "execution_count": 22
        }
      ]
    },
    {
      "cell_type": "code",
      "source": [
        "p1_debug_table = pages[0].debug_tablefinder()"
      ],
      "metadata": {
        "id": "7R17PTGCuhGO"
      },
      "execution_count": 23,
      "outputs": []
    },
    {
      "cell_type": "code",
      "source": [
        "p1_debug_table.tables"
      ],
      "metadata": {
        "colab": {
          "base_uri": "https://localhost:8080/"
        },
        "id": "FZitlhvxuhDd",
        "outputId": "d8edbb73-81bd-4470-c311-45e9153d0ba5"
      },
      "execution_count": 24,
      "outputs": [
        {
          "output_type": "execute_result",
          "data": {
            "text/plain": [
              "[<pdfplumber.table.Table at 0x7c4dfc40d0c0>]"
            ]
          },
          "metadata": {},
          "execution_count": 24
        }
      ]
    },
    {
      "cell_type": "code",
      "source": [
        "# 使用 Pandas.DataFrame 来展示和存储表格\n",
        "import pandas as pd\n",
        "df = pd.DataFrame(p1_table[1:], columns=p1_table[0])"
      ],
      "metadata": {
        "id": "GmHfVGgOuhBT"
      },
      "execution_count": 26,
      "outputs": []
    },
    {
      "cell_type": "code",
      "source": [
        "df"
      ],
      "metadata": {
        "colab": {
          "base_uri": "https://localhost:8080/",
          "height": 300
        },
        "id": "aE5MLGiVug-7",
        "outputId": "38da1eb9-89a2-4b49-9c8f-e242ba0623dd"
      },
      "execution_count": 27,
      "outputs": [
        {
          "output_type": "execute_result",
          "data": {
            "text/plain": [
              "        Fruit   Color Price (USD)\n",
              "0       Apple     Red        1.20\n",
              "1      Banana  Yellow        0.50\n",
              "2      Orange  Orange        0.80\n",
              "3  Strawberry     Red        2.50\n",
              "4   Blueberry    Blue        3.00\n",
              "5        Kiwi   Green        1.00\n",
              "6       Mango  Orange        1.50\n",
              "7       Grape  Purple        2.00"
            ],
            "text/html": [
              "\n",
              "  <div id=\"df-4fb5b590-cf5c-4fd3-a85e-973cad823dc9\" class=\"colab-df-container\">\n",
              "    <div>\n",
              "<style scoped>\n",
              "    .dataframe tbody tr th:only-of-type {\n",
              "        vertical-align: middle;\n",
              "    }\n",
              "\n",
              "    .dataframe tbody tr th {\n",
              "        vertical-align: top;\n",
              "    }\n",
              "\n",
              "    .dataframe thead th {\n",
              "        text-align: right;\n",
              "    }\n",
              "</style>\n",
              "<table border=\"1\" class=\"dataframe\">\n",
              "  <thead>\n",
              "    <tr style=\"text-align: right;\">\n",
              "      <th></th>\n",
              "      <th>Fruit</th>\n",
              "      <th>Color</th>\n",
              "      <th>Price (USD)</th>\n",
              "    </tr>\n",
              "  </thead>\n",
              "  <tbody>\n",
              "    <tr>\n",
              "      <th>0</th>\n",
              "      <td>Apple</td>\n",
              "      <td>Red</td>\n",
              "      <td>1.20</td>\n",
              "    </tr>\n",
              "    <tr>\n",
              "      <th>1</th>\n",
              "      <td>Banana</td>\n",
              "      <td>Yellow</td>\n",
              "      <td>0.50</td>\n",
              "    </tr>\n",
              "    <tr>\n",
              "      <th>2</th>\n",
              "      <td>Orange</td>\n",
              "      <td>Orange</td>\n",
              "      <td>0.80</td>\n",
              "    </tr>\n",
              "    <tr>\n",
              "      <th>3</th>\n",
              "      <td>Strawberry</td>\n",
              "      <td>Red</td>\n",
              "      <td>2.50</td>\n",
              "    </tr>\n",
              "    <tr>\n",
              "      <th>4</th>\n",
              "      <td>Blueberry</td>\n",
              "      <td>Blue</td>\n",
              "      <td>3.00</td>\n",
              "    </tr>\n",
              "    <tr>\n",
              "      <th>5</th>\n",
              "      <td>Kiwi</td>\n",
              "      <td>Green</td>\n",
              "      <td>1.00</td>\n",
              "    </tr>\n",
              "    <tr>\n",
              "      <th>6</th>\n",
              "      <td>Mango</td>\n",
              "      <td>Orange</td>\n",
              "      <td>1.50</td>\n",
              "    </tr>\n",
              "    <tr>\n",
              "      <th>7</th>\n",
              "      <td>Grape</td>\n",
              "      <td>Purple</td>\n",
              "      <td>2.00</td>\n",
              "    </tr>\n",
              "  </tbody>\n",
              "</table>\n",
              "</div>\n",
              "    <div class=\"colab-df-buttons\">\n",
              "\n",
              "  <div class=\"colab-df-container\">\n",
              "    <button class=\"colab-df-convert\" onclick=\"convertToInteractive('df-4fb5b590-cf5c-4fd3-a85e-973cad823dc9')\"\n",
              "            title=\"Convert this dataframe to an interactive table.\"\n",
              "            style=\"display:none;\">\n",
              "\n",
              "  <svg xmlns=\"http://www.w3.org/2000/svg\" height=\"24px\" viewBox=\"0 -960 960 960\">\n",
              "    <path d=\"M120-120v-720h720v720H120Zm60-500h600v-160H180v160Zm220 220h160v-160H400v160Zm0 220h160v-160H400v160ZM180-400h160v-160H180v160Zm440 0h160v-160H620v160ZM180-180h160v-160H180v160Zm440 0h160v-160H620v160Z\"/>\n",
              "  </svg>\n",
              "    </button>\n",
              "\n",
              "  <style>\n",
              "    .colab-df-container {\n",
              "      display:flex;\n",
              "      gap: 12px;\n",
              "    }\n",
              "\n",
              "    .colab-df-convert {\n",
              "      background-color: #E8F0FE;\n",
              "      border: none;\n",
              "      border-radius: 50%;\n",
              "      cursor: pointer;\n",
              "      display: none;\n",
              "      fill: #1967D2;\n",
              "      height: 32px;\n",
              "      padding: 0 0 0 0;\n",
              "      width: 32px;\n",
              "    }\n",
              "\n",
              "    .colab-df-convert:hover {\n",
              "      background-color: #E2EBFA;\n",
              "      box-shadow: 0px 1px 2px rgba(60, 64, 67, 0.3), 0px 1px 3px 1px rgba(60, 64, 67, 0.15);\n",
              "      fill: #174EA6;\n",
              "    }\n",
              "\n",
              "    .colab-df-buttons div {\n",
              "      margin-bottom: 4px;\n",
              "    }\n",
              "\n",
              "    [theme=dark] .colab-df-convert {\n",
              "      background-color: #3B4455;\n",
              "      fill: #D2E3FC;\n",
              "    }\n",
              "\n",
              "    [theme=dark] .colab-df-convert:hover {\n",
              "      background-color: #434B5C;\n",
              "      box-shadow: 0px 1px 3px 1px rgba(0, 0, 0, 0.15);\n",
              "      filter: drop-shadow(0px 1px 2px rgba(0, 0, 0, 0.3));\n",
              "      fill: #FFFFFF;\n",
              "    }\n",
              "  </style>\n",
              "\n",
              "    <script>\n",
              "      const buttonEl =\n",
              "        document.querySelector('#df-4fb5b590-cf5c-4fd3-a85e-973cad823dc9 button.colab-df-convert');\n",
              "      buttonEl.style.display =\n",
              "        google.colab.kernel.accessAllowed ? 'block' : 'none';\n",
              "\n",
              "      async function convertToInteractive(key) {\n",
              "        const element = document.querySelector('#df-4fb5b590-cf5c-4fd3-a85e-973cad823dc9');\n",
              "        const dataTable =\n",
              "          await google.colab.kernel.invokeFunction('convertToInteractive',\n",
              "                                                    [key], {});\n",
              "        if (!dataTable) return;\n",
              "\n",
              "        const docLinkHtml = 'Like what you see? Visit the ' +\n",
              "          '<a target=\"_blank\" href=https://colab.research.google.com/notebooks/data_table.ipynb>data table notebook</a>'\n",
              "          + ' to learn more about interactive tables.';\n",
              "        element.innerHTML = '';\n",
              "        dataTable['output_type'] = 'display_data';\n",
              "        await google.colab.output.renderOutput(dataTable, element);\n",
              "        const docLink = document.createElement('div');\n",
              "        docLink.innerHTML = docLinkHtml;\n",
              "        element.appendChild(docLink);\n",
              "      }\n",
              "    </script>\n",
              "  </div>\n",
              "\n",
              "\n",
              "<div id=\"df-123ed4a5-9708-4d65-89db-48c75f4ed40d\">\n",
              "  <button class=\"colab-df-quickchart\" onclick=\"quickchart('df-123ed4a5-9708-4d65-89db-48c75f4ed40d')\"\n",
              "            title=\"Suggest charts\"\n",
              "            style=\"display:none;\">\n",
              "\n",
              "<svg xmlns=\"http://www.w3.org/2000/svg\" height=\"24px\"viewBox=\"0 0 24 24\"\n",
              "     width=\"24px\">\n",
              "    <g>\n",
              "        <path d=\"M19 3H5c-1.1 0-2 .9-2 2v14c0 1.1.9 2 2 2h14c1.1 0 2-.9 2-2V5c0-1.1-.9-2-2-2zM9 17H7v-7h2v7zm4 0h-2V7h2v10zm4 0h-2v-4h2v4z\"/>\n",
              "    </g>\n",
              "</svg>\n",
              "  </button>\n",
              "\n",
              "<style>\n",
              "  .colab-df-quickchart {\n",
              "      --bg-color: #E8F0FE;\n",
              "      --fill-color: #1967D2;\n",
              "      --hover-bg-color: #E2EBFA;\n",
              "      --hover-fill-color: #174EA6;\n",
              "      --disabled-fill-color: #AAA;\n",
              "      --disabled-bg-color: #DDD;\n",
              "  }\n",
              "\n",
              "  [theme=dark] .colab-df-quickchart {\n",
              "      --bg-color: #3B4455;\n",
              "      --fill-color: #D2E3FC;\n",
              "      --hover-bg-color: #434B5C;\n",
              "      --hover-fill-color: #FFFFFF;\n",
              "      --disabled-bg-color: #3B4455;\n",
              "      --disabled-fill-color: #666;\n",
              "  }\n",
              "\n",
              "  .colab-df-quickchart {\n",
              "    background-color: var(--bg-color);\n",
              "    border: none;\n",
              "    border-radius: 50%;\n",
              "    cursor: pointer;\n",
              "    display: none;\n",
              "    fill: var(--fill-color);\n",
              "    height: 32px;\n",
              "    padding: 0;\n",
              "    width: 32px;\n",
              "  }\n",
              "\n",
              "  .colab-df-quickchart:hover {\n",
              "    background-color: var(--hover-bg-color);\n",
              "    box-shadow: 0 1px 2px rgba(60, 64, 67, 0.3), 0 1px 3px 1px rgba(60, 64, 67, 0.15);\n",
              "    fill: var(--button-hover-fill-color);\n",
              "  }\n",
              "\n",
              "  .colab-df-quickchart-complete:disabled,\n",
              "  .colab-df-quickchart-complete:disabled:hover {\n",
              "    background-color: var(--disabled-bg-color);\n",
              "    fill: var(--disabled-fill-color);\n",
              "    box-shadow: none;\n",
              "  }\n",
              "\n",
              "  .colab-df-spinner {\n",
              "    border: 2px solid var(--fill-color);\n",
              "    border-color: transparent;\n",
              "    border-bottom-color: var(--fill-color);\n",
              "    animation:\n",
              "      spin 1s steps(1) infinite;\n",
              "  }\n",
              "\n",
              "  @keyframes spin {\n",
              "    0% {\n",
              "      border-color: transparent;\n",
              "      border-bottom-color: var(--fill-color);\n",
              "      border-left-color: var(--fill-color);\n",
              "    }\n",
              "    20% {\n",
              "      border-color: transparent;\n",
              "      border-left-color: var(--fill-color);\n",
              "      border-top-color: var(--fill-color);\n",
              "    }\n",
              "    30% {\n",
              "      border-color: transparent;\n",
              "      border-left-color: var(--fill-color);\n",
              "      border-top-color: var(--fill-color);\n",
              "      border-right-color: var(--fill-color);\n",
              "    }\n",
              "    40% {\n",
              "      border-color: transparent;\n",
              "      border-right-color: var(--fill-color);\n",
              "      border-top-color: var(--fill-color);\n",
              "    }\n",
              "    60% {\n",
              "      border-color: transparent;\n",
              "      border-right-color: var(--fill-color);\n",
              "    }\n",
              "    80% {\n",
              "      border-color: transparent;\n",
              "      border-right-color: var(--fill-color);\n",
              "      border-bottom-color: var(--fill-color);\n",
              "    }\n",
              "    90% {\n",
              "      border-color: transparent;\n",
              "      border-bottom-color: var(--fill-color);\n",
              "    }\n",
              "  }\n",
              "</style>\n",
              "\n",
              "  <script>\n",
              "    async function quickchart(key) {\n",
              "      const quickchartButtonEl =\n",
              "        document.querySelector('#' + key + ' button');\n",
              "      quickchartButtonEl.disabled = true;  // To prevent multiple clicks.\n",
              "      quickchartButtonEl.classList.add('colab-df-spinner');\n",
              "      try {\n",
              "        const charts = await google.colab.kernel.invokeFunction(\n",
              "            'suggestCharts', [key], {});\n",
              "      } catch (error) {\n",
              "        console.error('Error during call to suggestCharts:', error);\n",
              "      }\n",
              "      quickchartButtonEl.classList.remove('colab-df-spinner');\n",
              "      quickchartButtonEl.classList.add('colab-df-quickchart-complete');\n",
              "    }\n",
              "    (() => {\n",
              "      let quickchartButtonEl =\n",
              "        document.querySelector('#df-123ed4a5-9708-4d65-89db-48c75f4ed40d button');\n",
              "      quickchartButtonEl.style.display =\n",
              "        google.colab.kernel.accessAllowed ? 'block' : 'none';\n",
              "    })();\n",
              "  </script>\n",
              "</div>\n",
              "\n",
              "  <div id=\"id_d9d68d42-dc0f-4310-8acc-2875433e4b80\">\n",
              "    <style>\n",
              "      .colab-df-generate {\n",
              "        background-color: #E8F0FE;\n",
              "        border: none;\n",
              "        border-radius: 50%;\n",
              "        cursor: pointer;\n",
              "        display: none;\n",
              "        fill: #1967D2;\n",
              "        height: 32px;\n",
              "        padding: 0 0 0 0;\n",
              "        width: 32px;\n",
              "      }\n",
              "\n",
              "      .colab-df-generate:hover {\n",
              "        background-color: #E2EBFA;\n",
              "        box-shadow: 0px 1px 2px rgba(60, 64, 67, 0.3), 0px 1px 3px 1px rgba(60, 64, 67, 0.15);\n",
              "        fill: #174EA6;\n",
              "      }\n",
              "\n",
              "      [theme=dark] .colab-df-generate {\n",
              "        background-color: #3B4455;\n",
              "        fill: #D2E3FC;\n",
              "      }\n",
              "\n",
              "      [theme=dark] .colab-df-generate:hover {\n",
              "        background-color: #434B5C;\n",
              "        box-shadow: 0px 1px 3px 1px rgba(0, 0, 0, 0.15);\n",
              "        filter: drop-shadow(0px 1px 2px rgba(0, 0, 0, 0.3));\n",
              "        fill: #FFFFFF;\n",
              "      }\n",
              "    </style>\n",
              "    <button class=\"colab-df-generate\" onclick=\"generateWithVariable('df')\"\n",
              "            title=\"Generate code using this dataframe.\"\n",
              "            style=\"display:none;\">\n",
              "\n",
              "  <svg xmlns=\"http://www.w3.org/2000/svg\" height=\"24px\"viewBox=\"0 0 24 24\"\n",
              "       width=\"24px\">\n",
              "    <path d=\"M7,19H8.4L18.45,9,17,7.55,7,17.6ZM5,21V16.75L18.45,3.32a2,2,0,0,1,2.83,0l1.4,1.43a1.91,1.91,0,0,1,.58,1.4,1.91,1.91,0,0,1-.58,1.4L9.25,21ZM18.45,9,17,7.55Zm-12,3A5.31,5.31,0,0,0,4.9,8.1,5.31,5.31,0,0,0,1,6.5,5.31,5.31,0,0,0,4.9,4.9,5.31,5.31,0,0,0,6.5,1,5.31,5.31,0,0,0,8.1,4.9,5.31,5.31,0,0,0,12,6.5,5.46,5.46,0,0,0,6.5,12Z\"/>\n",
              "  </svg>\n",
              "    </button>\n",
              "    <script>\n",
              "      (() => {\n",
              "      const buttonEl =\n",
              "        document.querySelector('#id_d9d68d42-dc0f-4310-8acc-2875433e4b80 button.colab-df-generate');\n",
              "      buttonEl.style.display =\n",
              "        google.colab.kernel.accessAllowed ? 'block' : 'none';\n",
              "\n",
              "      buttonEl.onclick = () => {\n",
              "        google.colab.notebook.generateWithVariable('df');\n",
              "      }\n",
              "      })();\n",
              "    </script>\n",
              "  </div>\n",
              "\n",
              "    </div>\n",
              "  </div>\n"
            ],
            "application/vnd.google.colaboratory.intrinsic+json": {
              "type": "dataframe",
              "variable_name": "df",
              "summary": "{\n  \"name\": \"df\",\n  \"rows\": 8,\n  \"fields\": [\n    {\n      \"column\": \"Fruit\",\n      \"properties\": {\n        \"dtype\": \"string\",\n        \"num_unique_values\": 8,\n        \"samples\": [\n          \"Banana\",\n          \"Kiwi\",\n          \"Apple\"\n        ],\n        \"semantic_type\": \"\",\n        \"description\": \"\"\n      }\n    },\n    {\n      \"column\": \"Color\",\n      \"properties\": {\n        \"dtype\": \"string\",\n        \"num_unique_values\": 6,\n        \"samples\": [\n          \"Red\",\n          \"Yellow\",\n          \"Purple\"\n        ],\n        \"semantic_type\": \"\",\n        \"description\": \"\"\n      }\n    },\n    {\n      \"column\": \"Price (USD)\",\n      \"properties\": {\n        \"dtype\": \"string\",\n        \"num_unique_values\": 8,\n        \"samples\": [\n          \"0.50\",\n          \"1.00\",\n          \"1.20\"\n        ],\n        \"semantic_type\": \"\",\n        \"description\": \"\"\n      }\n    }\n  ]\n}"
            }
          },
          "metadata": {},
          "execution_count": 27
        }
      ]
    },
    {
      "cell_type": "code",
      "source": [
        "# 从 PageImage 中获取页面图像分辨率\n",
        "pages[1].images"
      ],
      "metadata": {
        "colab": {
          "base_uri": "https://localhost:8080/"
        },
        "id": "lNOfvv_Gug83",
        "outputId": "deb88682-894e-45f5-8765-56c94e8eecb5"
      },
      "execution_count": 29,
      "outputs": [
        {
          "output_type": "execute_result",
          "data": {
            "text/plain": [
              "[{'x0': 61.25348,\n",
              "  'y0': 443.9213,\n",
              "  'x1': 533.74648,\n",
              "  'y1': 801.8948,\n",
              "  'width': 472.493,\n",
              "  'height': 357.97350000000006,\n",
              "  'stream': <PDFStream(17): raw=1522591, {'Type': /'XObject', 'Subtype': /'Image', 'Width': 1288, 'Height': 975, 'Interpolate': True, 'ColorSpace': <PDFObjRef:18>, 'Intent': /'Perceptual', 'BitsPerComponent': 8, 'Length': 1522590, 'Filter': /'FlateDecode'}>,\n",
              "  'srcsize': (1288, 975),\n",
              "  'imagemask': None,\n",
              "  'bits': 8,\n",
              "  'colorspace': [[/'ICCBased',\n",
              "    <PDFStream(19): raw=2758, {'N': 3, 'Alternate': /'DeviceRGB', 'Length': 2757, 'Filter': /'FlateDecode'}>]],\n",
              "  'mcid': None,\n",
              "  'tag': None,\n",
              "  'object_type': 'image',\n",
              "  'page_number': 2,\n",
              "  'top': 40.10519999999997,\n",
              "  'bottom': 398.0787,\n",
              "  'doctop': 882.1052}]"
            ]
          },
          "metadata": {},
          "execution_count": 29
        }
      ]
    },
    {
      "cell_type": "code",
      "source": [
        "img = pages[1].images[0]"
      ],
      "metadata": {
        "id": "3bOBKvpJug5_"
      },
      "execution_count": 31,
      "outputs": []
    },
    {
      "cell_type": "code",
      "source": [
        "bbox = (img[\"x0\"], img[\"top\"], img[\"x1\"], img[\"bottom\"])"
      ],
      "metadata": {
        "id": "aWeicUaLug2y"
      },
      "execution_count": 33,
      "outputs": []
    },
    {
      "cell_type": "code",
      "source": [
        "cropped_page = pages[1].crop(bbox)"
      ],
      "metadata": {
        "id": "OUyb83GTx3X4"
      },
      "execution_count": 34,
      "outputs": []
    },
    {
      "cell_type": "code",
      "source": [
        "# 可视化裁剪后的第二页\n",
        "cropped_page.to_image()"
      ],
      "metadata": {
        "colab": {
          "base_uri": "https://localhost:8080/",
          "height": 374
        },
        "id": "HBZD3uLkx3U3",
        "outputId": "d1d4933e-ab15-43f5-a23a-097562dc2177"
      },
      "execution_count": 36,
      "outputs": [
        {
          "output_type": "execute_result",
          "data": {
            "text/plain": [
              "<pdfplumber.display.PageImage at 0x7c4dfc40e560>"
            ],
            "image/png": "[encoded data removed]"
          },
          "metadata": {},
          "execution_count": 36
        }
      ]
    },
    {
      "cell_type": "code",
      "source": [
        "# 抗锯齿\n",
        "cropped_page.to_image(antialias=True)"
      ],
      "metadata": {
        "colab": {
          "base_uri": "https://localhost:8080/",
          "height": 374
        },
        "id": "YP0v1yNnx3Qp",
        "outputId": "8759323c-fa91-45c3-bb3e-8d4cd18426c7"
      },
      "execution_count": 37,
      "outputs": [
        {
          "output_type": "execute_result",
          "data": {
            "text/plain": [
              "<pdfplumber.display.PageImage at 0x7c4dfc40ccd0>"
            ],
            "image/png": "[encoded data removed]"
          },
          "metadata": {},
          "execution_count": 37
        }
      ]
    },
    {
      "cell_type": "code",
      "source": [
        "# 设置分辨率\n",
        "im = cropped_page.to_image(resolution=1080)\n",
        "im.save(\"pdf_img_test_1080p.png\")"
      ],
      "metadata": {
        "id": "SYDGJ7eWx3OT"
      },
      "execution_count": 39,
      "outputs": []
    },
    {
      "cell_type": "code",
      "source": [],
      "metadata": {
        "id": "LdPNAaxex3L5"
      },
      "execution_count": null,
      "outputs": []
    },
    {
      "cell_type": "code",
      "source": [],
      "metadata": {
        "id": "uN2izvUlx3Jx"
      },
      "execution_count": null,
      "outputs": []
    },
    {
      "cell_type": "code",
      "source": [],
      "metadata": {
        "id": "C5uuYVgZx3G3"
      },
      "execution_count": null,
      "outputs": []
    }
  ]
}